{
 "cells": [
  {
   "cell_type": "code",
   "execution_count": 1,
   "metadata": {},
   "outputs": [],
   "source": [
    "import pandas as pd\n",
    "from deutsche_bahn_api.api_authentication import ApiAuthentication \n",
    "from deutsche_bahn_api.station_helper import StationHelper\n",
    "from deutsche_bahn_api.timetable_helper import TimetableHelper"
   ]
  },
  {
   "cell_type": "code",
   "execution_count": 2,
   "metadata": {},
   "outputs": [],
   "source": [
    "api = ApiAuthentication(\"99f0bd0820e3ff9d707fa0949a4c70d6\", \"34d3460fb363b0f3fa010c223bd4ca8a\")\n",
    "success: bool = api.test_credentials()\n",
    "success\n",
    "\n",
    "station_helper = StationHelper()\n",
    "station_helper.load_stations()\n",
    "found_stations_by_name = station_helper.find_stations_by_name(\"Freiburg\")\n",
    "\n",
    "timetable_helper = TimetableHelper(found_stations_by_name[0], api)\n",
    "trains_in_this_hour = timetable_helper.get_timetable()"
   ]
  },
  {
   "cell_type": "code",
   "execution_count": 8,
   "metadata": {},
   "outputs": [
    {
     "data": {
      "text/html": [
       "<div>\n",
       "<style scoped>\n",
       "    .dataframe tbody tr th:only-of-type {\n",
       "        vertical-align: middle;\n",
       "    }\n",
       "\n",
       "    .dataframe tbody tr th {\n",
       "        vertical-align: top;\n",
       "    }\n",
       "\n",
       "    .dataframe thead th {\n",
       "        text-align: right;\n",
       "    }\n",
       "</style>\n",
       "<table border=\"1\" class=\"dataframe\">\n",
       "  <thead>\n",
       "    <tr style=\"text-align: right;\">\n",
       "      <th></th>\n",
       "      <th>Train Number</th>\n",
       "      <th>Train Type</th>\n",
       "      <th>Platform</th>\n",
       "      <th>Departure</th>\n",
       "      <th>Planned Stations</th>\n",
       "      <th>Stop ID</th>\n",
       "    </tr>\n",
       "  </thead>\n",
       "  <tbody>\n",
       "    <tr>\n",
       "      <th>0</th>\n",
       "      <td>5</td>\n",
       "      <td>ICE</td>\n",
       "      <td>3</td>\n",
       "      <td>2305130902</td>\n",
       "      <td>Basel Bad Bf|Basel SBB</td>\n",
       "      <td>3765292860989413453-2305130648-5</td>\n",
       "    </tr>\n",
       "  </tbody>\n",
       "</table>\n",
       "</div>"
      ],
      "text/plain": [
       "  Train Number Train Type Platform   Departure        Planned Stations   \n",
       "0            5        ICE        3  2305130902  Basel Bad Bf|Basel SBB  \\\n",
       "\n",
       "                            Stop ID  \n",
       "0  3765292860989413453-2305130648-5  "
      ]
     },
     "execution_count": 8,
     "metadata": {},
     "output_type": "execute_result"
    }
   ],
   "source": [
    "trains_in_this_hour[0].info()"
   ]
  }
 ],
 "metadata": {
  "kernelspec": {
   "display_name": ".venv",
   "language": "python",
   "name": "python3"
  },
  "language_info": {
   "codemirror_mode": {
    "name": "ipython",
    "version": 3
   },
   "file_extension": ".py",
   "mimetype": "text/x-python",
   "name": "python",
   "nbconvert_exporter": "python",
   "pygments_lexer": "ipython3",
   "version": "3.9.16"
  },
  "orig_nbformat": 4
 },
 "nbformat": 4,
 "nbformat_minor": 2
}
